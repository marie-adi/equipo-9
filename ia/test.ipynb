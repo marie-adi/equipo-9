{
 "cells": [
  {
   "cell_type": "code",
   "execution_count": 1,
   "metadata": {},
   "outputs": [
    {
     "name": "stderr",
     "output_type": "stream",
     "text": [
      "WARNING:absl:Compiled the loaded model, but the compiled metrics have yet to be built. `model.compile_metrics` will be empty until you train or evaluate the model.\n"
     ]
    },
    {
     "name": "stdout",
     "output_type": "stream",
     "text": [
      "Modelo cargado\n",
      "Nombres de etiquetas cargados: ['step' 'stair' 'ramp' 'grab_bar']\n",
      "\u001b[1m1/1\u001b[0m \u001b[32m━━━━━━━━━━━━━━━━━━━━\u001b[0m\u001b[37m\u001b[0m \u001b[1m2s\u001b[0m 2s/step\n",
      "Predicción bruta: [[0.25567994 0.42530155 0.10569661 0.2133219 ]]\n",
      "Etiquetas predichas: [0 0 0 0]\n",
      "No se detectaron características específicas en esta imagen.\n",
      "Procesamiento completado. Listo para la siguiente imagen.\n",
      "Programa terminado.\n"
     ]
    }
   ],
   "source": [
    "import numpy as np\n",
    "import tensorflow as tf\n",
    "from tensorflow.keras.models import load_model\n",
    "from tensorflow.keras.preprocessing.image import load_img, img_to_array\n",
    "\n",
    "# Cargar el modelo\n",
    "model = load_model('modelo_entrenado.h5')\n",
    "print(\"Modelo cargado\")\n",
    "\n",
    "# Cargar los nombres de las etiquetas\n",
    "label_names = np.load('label_names.npy', allow_pickle=True)\n",
    "print(\"Nombres de etiquetas cargados:\", label_names)\n",
    "\n",
    "# Función para clasificar nuevas imágenes\n",
    "def classify_new_image(image_path):\n",
    "    img = load_img(image_path, target_size=(224, 224))  # Ajusta el tamaño según tu modelo\n",
    "    img_array = img_to_array(img)\n",
    "    img_array = img_array.astype('float32') / 255\n",
    "    img_array = np.expand_dims(img_array, axis=0)\n",
    "\n",
    "    prediction = model.predict(img_array)\n",
    "    print(\"Predicción bruta:\", prediction)  # Diagnóstico\n",
    "    \n",
    "    # Usamos 0.5 como umbral para cada clase\n",
    "    predicted_labels = (prediction > 0.5).astype(int)[0]\n",
    "    \n",
    "    return predicted_labels\n",
    "\n",
    "# Función para mostrar resultados\n",
    "def show_results(predicted_labels):\n",
    "    print(\"Etiquetas predichas:\", predicted_labels)\n",
    "    for i, label in enumerate(predicted_labels):\n",
    "        if label == 1:\n",
    "            print(f\"La imagen contiene: {label_names[i]}\")\n",
    "    if sum(predicted_labels) == 0:\n",
    "        print(\"No se detectaron características específicas en esta imagen.\")\n",
    "\n",
    "# Ejemplo de uso\n",
    "while True:\n",
    "    image_path = input(\"Introduce la ruta de la imagen (o 'q' para salir): \")\n",
    "    if image_path.lower() == 'q':\n",
    "        break\n",
    "    \n",
    "    try:\n",
    "        predicted_labels = classify_new_image(image_path)\n",
    "        show_results(predicted_labels)\n",
    "    except Exception as e:\n",
    "        print(f\"Error al procesar la imagen: {e}\")\n",
    "    \n",
    "    print(\"Procesamiento completado. Listo para la siguiente imagen.\")\n",
    "\n",
    "print(\"Programa terminado.\")"
   ]
  }
 ],
 "metadata": {
  "kernelspec": {
   "display_name": "Python 3",
   "language": "python",
   "name": "python3"
  },
  "language_info": {
   "codemirror_mode": {
    "name": "ipython",
    "version": 3
   },
   "file_extension": ".py",
   "mimetype": "text/x-python",
   "name": "python",
   "nbconvert_exporter": "python",
   "pygments_lexer": "ipython3",
   "version": "3.12.4"
  }
 },
 "nbformat": 4,
 "nbformat_minor": 2
}
